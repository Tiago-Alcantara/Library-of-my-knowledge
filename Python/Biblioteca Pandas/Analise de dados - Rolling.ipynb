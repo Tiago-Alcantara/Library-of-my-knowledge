{
 "cells": [
  {
   "cell_type": "code",
   "execution_count": null,
   "metadata": {},
   "outputs": [],
   "source": []
  },
  {
   "attachments": {},
   "cell_type": "markdown",
   "metadata": {},
   "source": [
    "# Mundo 25\n",
    "\n",
    "### Análise de dados\n",
    "\n",
    "### Rolling: como criar médias móveis e janelas de volatilidade de uma ação com uma linha de código"
   ]
  },
  {
   "cell_type": "code",
   "execution_count": 1,
   "metadata": {},
   "outputs": [],
   "source": [
    "import pandas as pd\n",
    "import yfinance as yf\n",
    "import numpy as np"
   ]
  },
  {
   "cell_type": "code",
   "execution_count": 2,
   "metadata": {},
   "outputs": [
    {
     "name": "stdout",
     "output_type": "stream",
     "text": [
      "[*********************100%***********************]  1 of 1 completed\n"
     ]
    }
   ],
   "source": [
    "dados_acao = yf.download(\"PETR4.SA\", \"2010-01-01\", \"2022-08-31\")[\"Close\"]\n",
    "\n",
    "dados_acao = dados_acao.to_frame()"
   ]
  },
  {
   "cell_type": "code",
   "execution_count": 3,
   "metadata": {},
   "outputs": [
    {
     "data": {
      "text/html": [
       "<div>\n",
       "<style scoped>\n",
       "    .dataframe tbody tr th:only-of-type {\n",
       "        vertical-align: middle;\n",
       "    }\n",
       "\n",
       "    .dataframe tbody tr th {\n",
       "        vertical-align: top;\n",
       "    }\n",
       "\n",
       "    .dataframe thead th {\n",
       "        text-align: right;\n",
       "    }\n",
       "</style>\n",
       "<table border=\"1\" class=\"dataframe\">\n",
       "  <thead>\n",
       "    <tr style=\"text-align: right;\">\n",
       "      <th></th>\n",
       "      <th>Close</th>\n",
       "    </tr>\n",
       "    <tr>\n",
       "      <th>Date</th>\n",
       "      <th></th>\n",
       "    </tr>\n",
       "  </thead>\n",
       "  <tbody>\n",
       "    <tr>\n",
       "      <th>2010-01-04</th>\n",
       "      <td>37.320000</td>\n",
       "    </tr>\n",
       "    <tr>\n",
       "      <th>2010-01-05</th>\n",
       "      <td>37.000000</td>\n",
       "    </tr>\n",
       "    <tr>\n",
       "      <th>2010-01-06</th>\n",
       "      <td>37.500000</td>\n",
       "    </tr>\n",
       "    <tr>\n",
       "      <th>2010-01-07</th>\n",
       "      <td>37.150002</td>\n",
       "    </tr>\n",
       "    <tr>\n",
       "      <th>2010-01-08</th>\n",
       "      <td>36.950001</td>\n",
       "    </tr>\n",
       "    <tr>\n",
       "      <th>...</th>\n",
       "      <td>...</td>\n",
       "    </tr>\n",
       "    <tr>\n",
       "      <th>2022-08-24</th>\n",
       "      <td>33.639999</td>\n",
       "    </tr>\n",
       "    <tr>\n",
       "      <th>2022-08-25</th>\n",
       "      <td>33.279999</td>\n",
       "    </tr>\n",
       "    <tr>\n",
       "      <th>2022-08-26</th>\n",
       "      <td>33.639999</td>\n",
       "    </tr>\n",
       "    <tr>\n",
       "      <th>2022-08-29</th>\n",
       "      <td>34.480000</td>\n",
       "    </tr>\n",
       "    <tr>\n",
       "      <th>2022-08-30</th>\n",
       "      <td>32.430000</td>\n",
       "    </tr>\n",
       "  </tbody>\n",
       "</table>\n",
       "<p>3142 rows × 1 columns</p>\n",
       "</div>"
      ],
      "text/plain": [
       "                Close\n",
       "Date                 \n",
       "2010-01-04  37.320000\n",
       "2010-01-05  37.000000\n",
       "2010-01-06  37.500000\n",
       "2010-01-07  37.150002\n",
       "2010-01-08  36.950001\n",
       "...               ...\n",
       "2022-08-24  33.639999\n",
       "2022-08-25  33.279999\n",
       "2022-08-26  33.639999\n",
       "2022-08-29  34.480000\n",
       "2022-08-30  32.430000\n",
       "\n",
       "[3142 rows x 1 columns]"
      ]
     },
     "execution_count": 3,
     "metadata": {},
     "output_type": "execute_result"
    }
   ],
   "source": [
    "dados_acao"
   ]
  },
  {
   "cell_type": "code",
   "execution_count": 4,
   "metadata": {},
   "outputs": [
    {
     "data": {
      "text/html": [
       "<div>\n",
       "<style scoped>\n",
       "    .dataframe tbody tr th:only-of-type {\n",
       "        vertical-align: middle;\n",
       "    }\n",
       "\n",
       "    .dataframe tbody tr th {\n",
       "        vertical-align: top;\n",
       "    }\n",
       "\n",
       "    .dataframe thead th {\n",
       "        text-align: right;\n",
       "    }\n",
       "</style>\n",
       "<table border=\"1\" class=\"dataframe\">\n",
       "  <thead>\n",
       "    <tr style=\"text-align: right;\">\n",
       "      <th></th>\n",
       "      <th>Close</th>\n",
       "    </tr>\n",
       "    <tr>\n",
       "      <th>Date</th>\n",
       "      <th></th>\n",
       "    </tr>\n",
       "  </thead>\n",
       "  <tbody>\n",
       "    <tr>\n",
       "      <th>2010-01-04</th>\n",
       "      <td>NaN</td>\n",
       "    </tr>\n",
       "    <tr>\n",
       "      <th>2010-01-05</th>\n",
       "      <td>NaN</td>\n",
       "    </tr>\n",
       "    <tr>\n",
       "      <th>2010-01-06</th>\n",
       "      <td>NaN</td>\n",
       "    </tr>\n",
       "    <tr>\n",
       "      <th>2010-01-07</th>\n",
       "      <td>NaN</td>\n",
       "    </tr>\n",
       "    <tr>\n",
       "      <th>2010-01-08</th>\n",
       "      <td>NaN</td>\n",
       "    </tr>\n",
       "    <tr>\n",
       "      <th>...</th>\n",
       "      <td>...</td>\n",
       "    </tr>\n",
       "    <tr>\n",
       "      <th>2022-08-24</th>\n",
       "      <td>30.21752</td>\n",
       "    </tr>\n",
       "    <tr>\n",
       "      <th>2022-08-25</th>\n",
       "      <td>30.23972</td>\n",
       "    </tr>\n",
       "    <tr>\n",
       "      <th>2022-08-26</th>\n",
       "      <td>30.26432</td>\n",
       "    </tr>\n",
       "    <tr>\n",
       "      <th>2022-08-29</th>\n",
       "      <td>30.28828</td>\n",
       "    </tr>\n",
       "    <tr>\n",
       "      <th>2022-08-30</th>\n",
       "      <td>30.30480</td>\n",
       "    </tr>\n",
       "  </tbody>\n",
       "</table>\n",
       "<p>3142 rows × 1 columns</p>\n",
       "</div>"
      ],
      "text/plain": [
       "               Close\n",
       "Date                \n",
       "2010-01-04       NaN\n",
       "2010-01-05       NaN\n",
       "2010-01-06       NaN\n",
       "2010-01-07       NaN\n",
       "2010-01-08       NaN\n",
       "...              ...\n",
       "2022-08-24  30.21752\n",
       "2022-08-25  30.23972\n",
       "2022-08-26  30.26432\n",
       "2022-08-29  30.28828\n",
       "2022-08-30  30.30480\n",
       "\n",
       "[3142 rows x 1 columns]"
      ]
     },
     "execution_count": 4,
     "metadata": {},
     "output_type": "execute_result"
    }
   ],
   "source": [
    "media_movel_250d = dados_acao.rolling(250).mean()\n",
    "\n",
    "media_movel_250d"
   ]
  },
  {
   "cell_type": "code",
   "execution_count": 5,
   "metadata": {},
   "outputs": [
    {
     "data": {
      "text/html": [
       "<div>\n",
       "<style scoped>\n",
       "    .dataframe tbody tr th:only-of-type {\n",
       "        vertical-align: middle;\n",
       "    }\n",
       "\n",
       "    .dataframe tbody tr th {\n",
       "        vertical-align: top;\n",
       "    }\n",
       "\n",
       "    .dataframe thead th {\n",
       "        text-align: right;\n",
       "    }\n",
       "</style>\n",
       "<table border=\"1\" class=\"dataframe\">\n",
       "  <thead>\n",
       "    <tr style=\"text-align: right;\">\n",
       "      <th></th>\n",
       "      <th>Close</th>\n",
       "      <th>MM250D</th>\n",
       "    </tr>\n",
       "    <tr>\n",
       "      <th>Date</th>\n",
       "      <th></th>\n",
       "      <th></th>\n",
       "    </tr>\n",
       "  </thead>\n",
       "  <tbody>\n",
       "    <tr>\n",
       "      <th>2011-01-05</th>\n",
       "      <td>27.219999</td>\n",
       "      <td>29.68300</td>\n",
       "    </tr>\n",
       "    <tr>\n",
       "      <th>2011-01-06</th>\n",
       "      <td>27.110001</td>\n",
       "      <td>29.64216</td>\n",
       "    </tr>\n",
       "    <tr>\n",
       "      <th>2011-01-07</th>\n",
       "      <td>26.730000</td>\n",
       "      <td>29.60108</td>\n",
       "    </tr>\n",
       "    <tr>\n",
       "      <th>2011-01-10</th>\n",
       "      <td>26.980000</td>\n",
       "      <td>29.55900</td>\n",
       "    </tr>\n",
       "    <tr>\n",
       "      <th>2011-01-11</th>\n",
       "      <td>27.150000</td>\n",
       "      <td>29.51900</td>\n",
       "    </tr>\n",
       "    <tr>\n",
       "      <th>...</th>\n",
       "      <td>...</td>\n",
       "      <td>...</td>\n",
       "    </tr>\n",
       "    <tr>\n",
       "      <th>2022-08-24</th>\n",
       "      <td>33.639999</td>\n",
       "      <td>30.21752</td>\n",
       "    </tr>\n",
       "    <tr>\n",
       "      <th>2022-08-25</th>\n",
       "      <td>33.279999</td>\n",
       "      <td>30.23972</td>\n",
       "    </tr>\n",
       "    <tr>\n",
       "      <th>2022-08-26</th>\n",
       "      <td>33.639999</td>\n",
       "      <td>30.26432</td>\n",
       "    </tr>\n",
       "    <tr>\n",
       "      <th>2022-08-29</th>\n",
       "      <td>34.480000</td>\n",
       "      <td>30.28828</td>\n",
       "    </tr>\n",
       "    <tr>\n",
       "      <th>2022-08-30</th>\n",
       "      <td>32.430000</td>\n",
       "      <td>30.30480</td>\n",
       "    </tr>\n",
       "  </tbody>\n",
       "</table>\n",
       "<p>2893 rows × 2 columns</p>\n",
       "</div>"
      ],
      "text/plain": [
       "                Close    MM250D\n",
       "Date                           \n",
       "2011-01-05  27.219999  29.68300\n",
       "2011-01-06  27.110001  29.64216\n",
       "2011-01-07  26.730000  29.60108\n",
       "2011-01-10  26.980000  29.55900\n",
       "2011-01-11  27.150000  29.51900\n",
       "...               ...       ...\n",
       "2022-08-24  33.639999  30.21752\n",
       "2022-08-25  33.279999  30.23972\n",
       "2022-08-26  33.639999  30.26432\n",
       "2022-08-29  34.480000  30.28828\n",
       "2022-08-30  32.430000  30.30480\n",
       "\n",
       "[2893 rows x 2 columns]"
      ]
     },
     "execution_count": 5,
     "metadata": {},
     "output_type": "execute_result"
    }
   ],
   "source": [
    "dados_acao['MM250D'] = media_movel_250d.values\n",
    "\n",
    "dados_acao = dados_acao.dropna()\n",
    "\n",
    "dados_acao"
   ]
  },
  {
   "cell_type": "code",
   "execution_count": 6,
   "metadata": {},
   "outputs": [
    {
     "data": {
      "text/plain": [
       "<AxesSubplot: xlabel='Date'>"
      ]
     },
     "execution_count": 6,
     "metadata": {},
     "output_type": "execute_result"
    },
    {
     "data": {
      "image/png": "[encoded data removed]",
      "text/plain": [
       "<Figure size 640x480 with 1 Axes>"
      ]
     },
     "metadata": {},
     "output_type": "display_data"
    }
   ],
   "source": [
    "dados_acao.plot()"
   ]
  },
  {
   "cell_type": "code",
   "execution_count": 7,
   "metadata": {},
   "outputs": [
    {
     "name": "stderr",
     "output_type": "stream",
     "text": [
      "C:\\Users\\Tiago\\AppData\\Local\\Temp\\ipykernel_78832\\2675935085.py:1: SettingWithCopyWarning: \n",
      "A value is trying to be set on a copy of a slice from a DataFrame.\n",
      "Try using .loc[row_indexer,col_indexer] = value instead\n",
      "\n",
      "See the caveats in the documentation: https://pandas.pydata.org/pandas-docs/stable/user_guide/indexing.html#returning-a-view-versus-a-copy\n",
      "  dados_acao['Ordem'] = np.where(dados_acao['Close']> dados_acao['MM250D'],\"Compra\",\"Venda\")\n"
     ]
    },
    {
     "data": {
      "text/html": [
       "<div>\n",
       "<style scoped>\n",
       "    .dataframe tbody tr th:only-of-type {\n",
       "        vertical-align: middle;\n",
       "    }\n",
       "\n",
       "    .dataframe tbody tr th {\n",
       "        vertical-align: top;\n",
       "    }\n",
       "\n",
       "    .dataframe thead th {\n",
       "        text-align: right;\n",
       "    }\n",
       "</style>\n",
       "<table border=\"1\" class=\"dataframe\">\n",
       "  <thead>\n",
       "    <tr style=\"text-align: right;\">\n",
       "      <th></th>\n",
       "      <th>Close</th>\n",
       "      <th>MM250D</th>\n",
       "      <th>Ordem</th>\n",
       "    </tr>\n",
       "    <tr>\n",
       "      <th>Date</th>\n",
       "      <th></th>\n",
       "      <th></th>\n",
       "      <th></th>\n",
       "    </tr>\n",
       "  </thead>\n",
       "  <tbody>\n",
       "    <tr>\n",
       "      <th>2011-01-05</th>\n",
       "      <td>27.219999</td>\n",
       "      <td>29.68300</td>\n",
       "      <td>Venda</td>\n",
       "    </tr>\n",
       "    <tr>\n",
       "      <th>2011-01-06</th>\n",
       "      <td>27.110001</td>\n",
       "      <td>29.64216</td>\n",
       "      <td>Venda</td>\n",
       "    </tr>\n",
       "    <tr>\n",
       "      <th>2011-01-07</th>\n",
       "      <td>26.730000</td>\n",
       "      <td>29.60108</td>\n",
       "      <td>Venda</td>\n",
       "    </tr>\n",
       "    <tr>\n",
       "      <th>2011-01-10</th>\n",
       "      <td>26.980000</td>\n",
       "      <td>29.55900</td>\n",
       "      <td>Venda</td>\n",
       "    </tr>\n",
       "    <tr>\n",
       "      <th>2011-01-11</th>\n",
       "      <td>27.150000</td>\n",
       "      <td>29.51900</td>\n",
       "      <td>Venda</td>\n",
       "    </tr>\n",
       "    <tr>\n",
       "      <th>...</th>\n",
       "      <td>...</td>\n",
       "      <td>...</td>\n",
       "      <td>...</td>\n",
       "    </tr>\n",
       "    <tr>\n",
       "      <th>2022-08-24</th>\n",
       "      <td>33.639999</td>\n",
       "      <td>30.21752</td>\n",
       "      <td>Compra</td>\n",
       "    </tr>\n",
       "    <tr>\n",
       "      <th>2022-08-25</th>\n",
       "      <td>33.279999</td>\n",
       "      <td>30.23972</td>\n",
       "      <td>Compra</td>\n",
       "    </tr>\n",
       "    <tr>\n",
       "      <th>2022-08-26</th>\n",
       "      <td>33.639999</td>\n",
       "      <td>30.26432</td>\n",
       "      <td>Compra</td>\n",
       "    </tr>\n",
       "    <tr>\n",
       "      <th>2022-08-29</th>\n",
       "      <td>34.480000</td>\n",
       "      <td>30.28828</td>\n",
       "      <td>Compra</td>\n",
       "    </tr>\n",
       "    <tr>\n",
       "      <th>2022-08-30</th>\n",
       "      <td>32.430000</td>\n",
       "      <td>30.30480</td>\n",
       "      <td>Compra</td>\n",
       "    </tr>\n",
       "  </tbody>\n",
       "</table>\n",
       "<p>2893 rows × 3 columns</p>\n",
       "</div>"
      ],
      "text/plain": [
       "                Close    MM250D   Ordem\n",
       "Date                                   \n",
       "2011-01-05  27.219999  29.68300   Venda\n",
       "2011-01-06  27.110001  29.64216   Venda\n",
       "2011-01-07  26.730000  29.60108   Venda\n",
       "2011-01-10  26.980000  29.55900   Venda\n",
       "2011-01-11  27.150000  29.51900   Venda\n",
       "...               ...       ...     ...\n",
       "2022-08-24  33.639999  30.21752  Compra\n",
       "2022-08-25  33.279999  30.23972  Compra\n",
       "2022-08-26  33.639999  30.26432  Compra\n",
       "2022-08-29  34.480000  30.28828  Compra\n",
       "2022-08-30  32.430000  30.30480  Compra\n",
       "\n",
       "[2893 rows x 3 columns]"
      ]
     },
     "execution_count": 7,
     "metadata": {},
     "output_type": "execute_result"
    }
   ],
   "source": [
    "dados_acao['Ordem'] = np.where(dados_acao['Close']> dados_acao['MM250D'],\"Compra\",\"Venda\")\n",
    "\n",
    "dados_acao"
   ]
  },
  {
   "cell_type": "code",
   "execution_count": 8,
   "metadata": {},
   "outputs": [
    {
     "data": {
      "text/plain": [
       "Date\n",
       "2011-01-05    27.219999\n",
       "2011-01-06    27.164780\n",
       "2011-01-07    27.018692\n",
       "2011-01-10    27.008903\n",
       "2011-01-11    27.037575\n",
       "                ...    \n",
       "2022-08-24    30.184482\n",
       "2022-08-25    30.209147\n",
       "2022-08-26    30.236485\n",
       "2022-08-29    30.270297\n",
       "2022-08-30    30.287506\n",
       "Name: Close, Length: 2893, dtype: float64"
      ]
     },
     "execution_count": 8,
     "metadata": {},
     "output_type": "execute_result"
    }
   ],
   "source": [
    "media_movel_exp = dados_acao[\"Close\"].ewm(span = 250).mean()\n",
    "\n",
    "media_movel_exp"
   ]
  },
  {
   "cell_type": "code",
   "execution_count": 9,
   "metadata": {},
   "outputs": [
    {
     "data": {
      "text/plain": [
       "<AxesSubplot: xlabel='Date'>"
      ]
     },
     "execution_count": 9,
     "metadata": {},
     "output_type": "execute_result"
    },
    {
     "data": {
      "image/png": "[encoded data removed]",
      "text/plain": [
       "<Figure size 640x480 with 1 Axes>"
      ]
     },
     "metadata": {},
     "output_type": "display_data"
    }
   ],
   "source": [
    "media_movel_250d.plot()\n",
    "media_movel_exp.plot()"
   ]
  },
  {
   "cell_type": "code",
   "execution_count": 10,
   "metadata": {},
   "outputs": [
    {
     "data": {
      "text/plain": [
       "Date\n",
       "2011-01-05         NaN\n",
       "2011-01-06         NaN\n",
       "2011-01-07         NaN\n",
       "2011-01-10         NaN\n",
       "2011-01-11         NaN\n",
       "                ...   \n",
       "2022-08-24    0.026154\n",
       "2022-08-25    0.026163\n",
       "2022-08-26    0.026163\n",
       "2022-08-29    0.026111\n",
       "2022-08-30    0.026386\n",
       "Name: Close, Length: 2893, dtype: float64"
      ]
     },
     "execution_count": 10,
     "metadata": {},
     "output_type": "execute_result"
    }
   ],
   "source": [
    "volatilidade_diaria_12m = dados_acao[\"Close\"].pct_change().rolling(250).std()\n",
    "\n",
    "volatilidade_diaria_12m"
   ]
  },
  {
   "cell_type": "code",
   "execution_count": 11,
   "metadata": {},
   "outputs": [
    {
     "data": {
      "text/plain": [
       "Date\n",
       "2012-01-05    0.284766\n",
       "2012-01-06    0.284750\n",
       "2012-01-09    0.284776\n",
       "2012-01-10    0.284878\n",
       "2012-01-11    0.284797\n",
       "                ...   \n",
       "2022-08-24    0.415177\n",
       "2022-08-25    0.415324\n",
       "2022-08-26    0.415322\n",
       "2022-08-29    0.414500\n",
       "2022-08-30    0.418868\n",
       "Name: Close, Length: 2643, dtype: float64"
      ]
     },
     "execution_count": 11,
     "metadata": {},
     "output_type": "execute_result"
    }
   ],
   "source": [
    "volatilidade_diaria_12m = volatilidade_diaria_12m.dropna()\n",
    "\n",
    "volatilidade_diaria_12m = volatilidade_diaria_12m*np.sqrt(252)\n",
    "\n",
    "volatilidade_diaria_12m"
   ]
  },
  {
   "cell_type": "code",
   "execution_count": 12,
   "metadata": {},
   "outputs": [
    {
     "data": {
      "text/plain": [
       "<AxesSubplot: xlabel='Date'>"
      ]
     },
     "execution_count": 12,
     "metadata": {},
     "output_type": "execute_result"
    },
    {
     "data": {
      "image/png": "[encoded data removed]",
      "text/plain": [
       "<Figure size 640x480 with 1 Axes>"
      ]
     },
     "metadata": {},
     "output_type": "display_data"
    }
   ],
   "source": [
    "volatilidade_diaria_12m.plot()"
   ]
  },
  {
   "attachments": {},
   "cell_type": "markdown",
   "metadata": {},
   "source": [
    "# Exercícios\n",
    "<BR>\n",
    "    \n",
    "* Exercício 81: Puxe dados de uma ação a sua escolha e calcule a média móvel de 30 dias desde 01/01/2020. Depois, identifique os sinais de compra ou venda, baseado na média móvel.\n",
    "<BR>\n",
    "    \n",
    "* Exercício 82: Com os dados do exercício 81, calcule a média móvel exponencial de 30 dias.\n",
    "<bR>\n",
    "    \n",
    "* Exercício 83: Com os dados do exercício 81, calcule a volatilidade dos retornos diários anualidada no período. "
   ]
  },
  {
   "cell_type": "code",
   "execution_count": null,
   "metadata": {},
   "outputs": [],
   "source": [
    "#gabarito 81\n",
    "\n",
    "dados_acao = yf.download(\"WEGE3.SA\", \"2020-01-01\", \"2022-08-31\")['Close']\n",
    "\n",
    "dados_acao = dados_acao.to_frame()\n",
    "\n",
    "dados_acao['MM30D'] = dados_acao.rolling(30).mean()\n",
    "\n",
    "dados_acao = dados_acao.dropna()\n",
    "\n",
    "dados_acao.plot()"
   ]
  },
  {
   "cell_type": "code",
   "execution_count": null,
   "metadata": {},
   "outputs": [],
   "source": [
    "dados_acao['Ordem'] = np.where(dados_acao['Close'] > dados_acao['MM30D'], \"Compra\", \"Venda\")\n",
    "\n",
    "dados_acao"
   ]
  },
  {
   "cell_type": "code",
   "execution_count": null,
   "metadata": {},
   "outputs": [],
   "source": [
    "#gabarito 82\n",
    "dados_acao = yf.download(\"WEGE3.SA\", \"2020-01-01\", \"2022-08-31\")['Close']\n",
    "\n",
    "dados_acao = dados_acao.to_frame()\n",
    "\n",
    "dados_acao['EWM'] = dados_acao.ewm(span = 30).mean()\n",
    "\n",
    "dados_acao.plot()"
   ]
  },
  {
   "cell_type": "code",
   "execution_count": null,
   "metadata": {},
   "outputs": [],
   "source": [
    "#gabarito 83\n",
    "\n",
    "dados_acao = yf.download(\"WEGE3.SA\", \"2020-01-01\", \"2022-08-31\")['Close']\n",
    "\n",
    "vol252d = dados_acao.pct_change().rolling(252).std()\n",
    "vol252d = vol252d.dropna()\n",
    "vol252d_anualizada = vol252d * np.sqrt(252)\n",
    "\n",
    "vol252d_anualizada.plot()"
   ]
  }
 ],
 "metadata": {
  "kernelspec": {
   "display_name": "Python 3",
   "language": "python",
   "name": "python3"
  },
  "language_info": {
   "codemirror_mode": {
    "name": "ipython",
    "version": 3
   },
   "file_extension": ".py",
   "mimetype": "text/x-python",
   "name": "python",
   "nbconvert_exporter": "python",
   "pygments_lexer": "ipython3",
   "version": "3.10.4"
  },
  "orig_nbformat": 4
 },
 "nbformat": 4,
 "nbformat_minor": 2
}
