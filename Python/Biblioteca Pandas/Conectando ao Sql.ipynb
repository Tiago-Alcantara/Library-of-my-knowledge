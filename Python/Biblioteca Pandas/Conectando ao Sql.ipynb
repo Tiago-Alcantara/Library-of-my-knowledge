{
 "cells": [
  {
   "cell_type": "markdown",
   "id": "ea3f233e",
   "metadata": {},
   "source": [
    "# Mundo 15\n",
    "\n",
    "### Leitura e extração de dados"
   ]
  },
  {
   "cell_type": "code",
   "execution_count": 1,
   "id": "7fefb4d7",
   "metadata": {},
   "outputs": [],
   "source": [
    "import pandas as pd\n",
    "from sqlalchemy import create_engine\n",
    "from sqlalchemy.orm import declarative_base\n",
    "from sqlalchemy import Column, Integer, String"
   ]
  },
  {
   "cell_type": "code",
   "execution_count": 2,
   "id": "dc9309eb",
   "metadata": {},
   "outputs": [
    {
     "ename": "ModuleNotFoundError",
     "evalue": "No module named 'pymysql'",
     "output_type": "error",
     "traceback": [
      "\u001b[1;31m---------------------------------------------------------------------------\u001b[0m",
      "\u001b[1;31mModuleNotFoundError\u001b[0m                       Traceback (most recent call last)",
      "Cell \u001b[1;32mIn[2], line 7\u001b[0m\n\u001b[0;32m      4\u001b[0m host \u001b[39m=\u001b[39m \u001b[39m\"\u001b[39m\u001b[39mlocalhost\u001b[39m\u001b[39m\"\u001b[39m\n\u001b[0;32m      5\u001b[0m porta \u001b[39m=\u001b[39m \u001b[39m3306\u001b[39m\n\u001b[1;32m----> 7\u001b[0m conexao \u001b[39m=\u001b[39m create_engine(url\u001b[39m=\u001b[39;49m\u001b[39mf\u001b[39;49m\u001b[39m\"\u001b[39;49m\u001b[39mmysql+pymysql://\u001b[39;49m\u001b[39m{\u001b[39;49;00muser\u001b[39m}\u001b[39;49;00m\u001b[39m:\u001b[39;49m\u001b[39m{\u001b[39;49;00msenha\u001b[39m}\u001b[39;49;00m\u001b[39m@\u001b[39;49m\u001b[39m{\u001b[39;49;00mhost\u001b[39m}\u001b[39;49;00m\u001b[39m:\u001b[39;49m\u001b[39m{\u001b[39;49;00mporta\u001b[39m}\u001b[39;49;00m\u001b[39m/\u001b[39;49m\u001b[39m{\u001b[39;49;00mbanco_de_dados\u001b[39m}\u001b[39;49;00m\u001b[39m\"\u001b[39;49m)\n",
      "File \u001b[1;32m<string>:2\u001b[0m, in \u001b[0;36mcreate_engine\u001b[1;34m(url, **kwargs)\u001b[0m\n",
      "File \u001b[1;32mc:\\Users\\Tiago\\AppData\\Local\\Programs\\Python\\Python310\\lib\\site-packages\\sqlalchemy\\util\\deprecations.py:277\u001b[0m, in \u001b[0;36mdeprecated_params.<locals>.decorate.<locals>.warned\u001b[1;34m(fn, *args, **kwargs)\u001b[0m\n\u001b[0;32m    270\u001b[0m     \u001b[39mif\u001b[39;00m m \u001b[39min\u001b[39;00m kwargs:\n\u001b[0;32m    271\u001b[0m         _warn_with_version(\n\u001b[0;32m    272\u001b[0m             messages[m],\n\u001b[0;32m    273\u001b[0m             versions[m],\n\u001b[0;32m    274\u001b[0m             version_warnings[m],\n\u001b[0;32m    275\u001b[0m             stacklevel\u001b[39m=\u001b[39m\u001b[39m3\u001b[39m,\n\u001b[0;32m    276\u001b[0m         )\n\u001b[1;32m--> 277\u001b[0m \u001b[39mreturn\u001b[39;00m fn(\u001b[39m*\u001b[39margs, \u001b[39m*\u001b[39m\u001b[39m*\u001b[39mkwargs)\n",
      "File \u001b[1;32mc:\\Users\\Tiago\\AppData\\Local\\Programs\\Python\\Python310\\lib\\site-packages\\sqlalchemy\\engine\\create.py:605\u001b[0m, in \u001b[0;36mcreate_engine\u001b[1;34m(url, **kwargs)\u001b[0m\n\u001b[0;32m    603\u001b[0m         \u001b[39mif\u001b[39;00m k \u001b[39min\u001b[39;00m kwargs:\n\u001b[0;32m    604\u001b[0m             dbapi_args[k] \u001b[39m=\u001b[39m pop_kwarg(k)\n\u001b[1;32m--> 605\u001b[0m     dbapi \u001b[39m=\u001b[39m dbapi_meth(\u001b[39m*\u001b[39m\u001b[39m*\u001b[39mdbapi_args)\n\u001b[0;32m    607\u001b[0m dialect_args[\u001b[39m\"\u001b[39m\u001b[39mdbapi\u001b[39m\u001b[39m\"\u001b[39m] \u001b[39m=\u001b[39m dbapi\n\u001b[0;32m    609\u001b[0m dialect_args\u001b[39m.\u001b[39msetdefault(\u001b[39m\"\u001b[39m\u001b[39mcompiler_linting\u001b[39m\u001b[39m\"\u001b[39m, compiler\u001b[39m.\u001b[39mNO_LINTING)\n",
      "File \u001b[1;32mc:\\Users\\Tiago\\AppData\\Local\\Programs\\Python\\Python310\\lib\\site-packages\\sqlalchemy\\dialects\\mysql\\pymysql.py:75\u001b[0m, in \u001b[0;36mMySQLDialect_pymysql.import_dbapi\u001b[1;34m(cls)\u001b[0m\n\u001b[0;32m     73\u001b[0m \u001b[39m@classmethod\u001b[39m\n\u001b[0;32m     74\u001b[0m \u001b[39mdef\u001b[39;00m \u001b[39mimport_dbapi\u001b[39m(\u001b[39mcls\u001b[39m):\n\u001b[1;32m---> 75\u001b[0m     \u001b[39mreturn\u001b[39;00m \u001b[39m__import__\u001b[39;49m(\u001b[39m\"\u001b[39;49m\u001b[39mpymysql\u001b[39;49m\u001b[39m\"\u001b[39;49m)\n",
      "\u001b[1;31mModuleNotFoundError\u001b[0m: No module named 'pymysql'"
     ]
    }
   ],
   "source": [
    "user = \"root\"\n",
    "senha = \"root\"\n",
    "banco_de_dados = \"codigo_py\"\n",
    "host = \"localhost\"\n",
    "porta = 3306\n",
    "    \n",
    "conexao = create_engine(url=f\"mysql+pymysql://{user}:{senha}@{host}:{porta}/{banco_de_dados}\")"
   ]
  },
  {
   "cell_type": "code",
   "execution_count": null,
   "id": "a9206726",
   "metadata": {},
   "outputs": [],
   "source": [
    "Banco_de_dados = declarative_base()\n",
    "\n",
    "class User(Banco_de_dados):\n",
    "\n",
    "    __tablename__ = 'price'\n",
    "\n",
    "    id = Column(Integer, primary_key=True, autoincrement=True)\n",
    "    empresas = Column(String(50))\n",
    "    cotacao = Column(Integer)\n",
    "\n",
    "\n",
    "Banco_de_dados.metadata.create_all(conexao)"
   ]
  },
  {
   "cell_type": "code",
   "execution_count": null,
   "id": "84ffd438",
   "metadata": {},
   "outputs": [
    {
     "data": {
      "text/plain": [
       "3"
      ]
     },
     "execution_count": 4,
     "metadata": {},
     "output_type": "execute_result"
    }
   ],
   "source": [
    "#colocar dados na tabela com o pandas\n",
    "\n",
    "nome_tabela = 'price'\n",
    "df_teste = pd.DataFrame({\"empresas\": ['WEGE3', 'PCAR4', 'PETR4'],\n",
    "                       \"cotacao\": [20, 30, 40]}, index = pd.date_range(\"2022-01-01\", periods = 3))\n",
    "\n",
    "df_teste.to_sql(nome_tabela, conexao, index=False, if_exists='append')"
   ]
  },
  {
   "cell_type": "code",
   "execution_count": null,
   "id": "f12b6ba4",
   "metadata": {},
   "outputs": [
    {
     "data": {
      "text/html": [
       "<div>\n",
       "<style scoped>\n",
       "    .dataframe tbody tr th:only-of-type {\n",
       "        vertical-align: middle;\n",
       "    }\n",
       "\n",
       "    .dataframe tbody tr th {\n",
       "        vertical-align: top;\n",
       "    }\n",
       "\n",
       "    .dataframe thead th {\n",
       "        text-align: right;\n",
       "    }\n",
       "</style>\n",
       "<table border=\"1\" class=\"dataframe\">\n",
       "  <thead>\n",
       "    <tr style=\"text-align: right;\">\n",
       "      <th></th>\n",
       "      <th>id</th>\n",
       "      <th>empresas</th>\n",
       "      <th>cotacao</th>\n",
       "    </tr>\n",
       "  </thead>\n",
       "  <tbody>\n",
       "    <tr>\n",
       "      <th>0</th>\n",
       "      <td>1</td>\n",
       "      <td>WEGE3</td>\n",
       "      <td>20</td>\n",
       "    </tr>\n",
       "    <tr>\n",
       "      <th>1</th>\n",
       "      <td>2</td>\n",
       "      <td>PCAR4</td>\n",
       "      <td>30</td>\n",
       "    </tr>\n",
       "    <tr>\n",
       "      <th>2</th>\n",
       "      <td>3</td>\n",
       "      <td>PETR4</td>\n",
       "      <td>40</td>\n",
       "    </tr>\n",
       "  </tbody>\n",
       "</table>\n",
       "</div>"
      ],
      "text/plain": [
       "   id empresas  cotacao\n",
       "0   1    WEGE3       20\n",
       "1   2    PCAR4       30\n",
       "2   3    PETR4       40"
      ]
     },
     "execution_count": 5,
     "metadata": {},
     "output_type": "execute_result"
    }
   ],
   "source": [
    "#como ler dados do SQL com o pandas?\n",
    "\n",
    "nome_tabela = 'price'\n",
    "comando_sql = f\"SELECT * FROM {nome_tabela};\" #tem que saber SQL\n",
    "df = pd.read_sql(comando_sql,con=conexao)\n",
    "\n",
    "df"
   ]
  },
  {
   "cell_type": "markdown",
   "id": "a7f10497",
   "metadata": {},
   "source": [
    "# Mundo 16\n",
    "\n",
    "Ta, você já aprendeu a ler dados com o Pandas. Agora vamos aprender a limpar e preparar esses dados pras nossas análises, começando por tirar dados faltantes das nossas tabelas?"
   ]
  }
 ],
 "metadata": {
  "kernelspec": {
   "display_name": "Python 3 (ipykernel)",
   "language": "python",
   "name": "python3"
  },
  "language_info": {
   "codemirror_mode": {
    "name": "ipython",
    "version": 3
   },
   "file_extension": ".py",
   "mimetype": "text/x-python",
   "name": "python",
   "nbconvert_exporter": "python",
   "pygments_lexer": "ipython3",
   "version": "3.10.4"
  }
 },
 "nbformat": 4,
 "nbformat_minor": 5
}
