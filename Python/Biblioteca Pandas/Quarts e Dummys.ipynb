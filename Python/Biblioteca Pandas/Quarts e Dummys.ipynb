{
 "cells": [
  {
   "attachments": {},
   "cell_type": "markdown",
   "metadata": {},
   "source": [
    "# Mundo 20\n",
    "\n",
    "### Limpeza e tratamento de dados"
   ]
  },
  {
   "cell_type": "code",
   "execution_count": 1,
   "metadata": {},
   "outputs": [],
   "source": [
    "import pandas as pd\n",
    "import  yfinance as yf\n",
    "import numpy as np"
   ]
  },
  {
   "cell_type": "code",
   "execution_count": null,
   "metadata": {},
   "outputs": [],
   "source": [
    "valores = np.random.rand(10)#criar 10 valores aleatorios entre 0,1\n",
    "\n",
    "valores"
   ]
  },
  {
   "cell_type": "markdown",
   "metadata": {},
   "source": []
  },
  {
   "cell_type": "code",
   "execution_count": null,
   "metadata": {},
   "outputs": [],
   "source": [
    "#divindo valores baseado em %\n",
    "\n",
    "divisoes = [0,0.25,0.5,0.75,1]\n",
    "\n",
    "valores_categorias = pd.cut(valores,divisoes)\n",
    "\n",
    "valores_categorias"
   ]
  },
  {
   "cell_type": "code",
   "execution_count": null,
   "metadata": {},
   "outputs": [],
   "source": [
    "#contando e organizando em grupos\n",
    "numero_de_amostras_por_categoria = pd.value_counts(valores_categorias)\n",
    "\n",
    "numero_de_amostras_por_categoria"
   ]
  },
  {
   "cell_type": "code",
   "execution_count": null,
   "metadata": {},
   "outputs": [],
   "source": [
    "#transformar a amostra em variaves dummys\n",
    "\n",
    "df_dummies = pd.get_dummies(valores_categorias)\n",
    "df_dummies"
   ]
  },
  {
   "cell_type": "code",
   "execution_count": null,
   "metadata": {},
   "outputs": [],
   "source": [
    "#analise de idade de CEOS das empreas da bolsa\n",
    "\n",
    "df_ceos_empresas = pd.DataFrame({\"Empresa\": ['Weg', 'Vale', 'Petrobras', 'Renner',\n",
    "                                            'Assai', 'Nubank', 'Inter', 'BTG'],\n",
    "                                'Nome_ceo': ['Pedro', 'Nelson', 'Lucas', 'Stefany',\n",
    "                                            'Mateus', 'Aline', 'Raquel', 'Paloma'],\n",
    "                                'Idade': [36, 45, 55, 60, 62, 23, 31, 32]})\n",
    "\n",
    "\n",
    "df_ceos_empresas"
   ]
  },
  {
   "cell_type": "code",
   "execution_count": null,
   "metadata": {},
   "outputs": [],
   "source": [
    "faixa_etaria = [0,18,25,35,50,65]\n",
    "\n",
    "ceos_por_idade = pd.value_counts(pd.cut(df_ceos_empresas['Idade'],faixa_etaria))\n",
    "\n",
    "ceos_por_idade.sort_values()"
   ]
  },
  {
   "attachments": {},
   "cell_type": "markdown",
   "metadata": {},
   "source": [
    "# Exercícios \n",
    "<BR>\n",
    "    \n",
    "Leia o excel disponibilizado na aula e:\n",
    "    \n",
    "* Exercício 72: Arrume uma forma de dividir as empresas pelo seu DY através de quartis (dica: use rankings). Depois disso, peça para o usuário digitar uma empresa disponível na bolsa e devolva em qual quartil a empresa está na amostra de distribuição de dividendos.\n",
    "* Exercício 73: Crie um data frame de Dummies baseado nos quartis de DY, divididos no exercício exterior."
   ]
  },
  {
   "cell_type": "code",
   "execution_count": 42,
   "metadata": {},
   "outputs": [
    {
     "name": "stdout",
     "output_type": "stream",
     "text": [
      "A empresa BRSR6 fica localizada \n",
      "                no 1.0º quartil em distribuição de dividendos\n",
      "                de todas as empresas da bolsa.\n"
     ]
    },
    {
     "data": {
      "text/html": [
       "<div>\n",
       "<style scoped>\n",
       "    .dataframe tbody tr th:only-of-type {\n",
       "        vertical-align: middle;\n",
       "    }\n",
       "\n",
       "    .dataframe tbody tr th {\n",
       "        vertical-align: top;\n",
       "    }\n",
       "\n",
       "    .dataframe thead th {\n",
       "        text-align: right;\n",
       "    }\n",
       "</style>\n",
       "<table border=\"1\" class=\"dataframe\">\n",
       "  <thead>\n",
       "    <tr style=\"text-align: right;\">\n",
       "      <th></th>\n",
       "      <th>(0.0, 84.625]</th>\n",
       "      <th>(84.625, 169.25]</th>\n",
       "      <th>(169.25, 253.875]</th>\n",
       "      <th>(253.875, 339.5]</th>\n",
       "    </tr>\n",
       "  </thead>\n",
       "  <tbody>\n",
       "    <tr>\n",
       "      <th>2</th>\n",
       "      <td>0</td>\n",
       "      <td>0</td>\n",
       "      <td>0</td>\n",
       "      <td>1</td>\n",
       "    </tr>\n",
       "    <tr>\n",
       "      <th>3</th>\n",
       "      <td>0</td>\n",
       "      <td>1</td>\n",
       "      <td>0</td>\n",
       "      <td>0</td>\n",
       "    </tr>\n",
       "    <tr>\n",
       "      <th>4</th>\n",
       "      <td>0</td>\n",
       "      <td>0</td>\n",
       "      <td>1</td>\n",
       "      <td>0</td>\n",
       "    </tr>\n",
       "    <tr>\n",
       "      <th>5</th>\n",
       "      <td>1</td>\n",
       "      <td>0</td>\n",
       "      <td>0</td>\n",
       "      <td>0</td>\n",
       "    </tr>\n",
       "    <tr>\n",
       "      <th>8</th>\n",
       "      <td>1</td>\n",
       "      <td>0</td>\n",
       "      <td>0</td>\n",
       "      <td>0</td>\n",
       "    </tr>\n",
       "    <tr>\n",
       "      <th>...</th>\n",
       "      <td>...</td>\n",
       "      <td>...</td>\n",
       "      <td>...</td>\n",
       "      <td>...</td>\n",
       "    </tr>\n",
       "    <tr>\n",
       "      <th>659</th>\n",
       "      <td>1</td>\n",
       "      <td>0</td>\n",
       "      <td>0</td>\n",
       "      <td>0</td>\n",
       "    </tr>\n",
       "    <tr>\n",
       "      <th>661</th>\n",
       "      <td>0</td>\n",
       "      <td>1</td>\n",
       "      <td>0</td>\n",
       "      <td>0</td>\n",
       "    </tr>\n",
       "    <tr>\n",
       "      <th>665</th>\n",
       "      <td>0</td>\n",
       "      <td>0</td>\n",
       "      <td>0</td>\n",
       "      <td>1</td>\n",
       "    </tr>\n",
       "    <tr>\n",
       "      <th>666</th>\n",
       "      <td>0</td>\n",
       "      <td>0</td>\n",
       "      <td>0</td>\n",
       "      <td>1</td>\n",
       "    </tr>\n",
       "    <tr>\n",
       "      <th>667</th>\n",
       "      <td>0</td>\n",
       "      <td>0</td>\n",
       "      <td>0</td>\n",
       "      <td>1</td>\n",
       "    </tr>\n",
       "  </tbody>\n",
       "</table>\n",
       "<p>394 rows × 4 columns</p>\n",
       "</div>"
      ],
      "text/plain": [
       "     (0.0, 84.625]  (84.625, 169.25]  (169.25, 253.875]  (253.875, 339.5]\n",
       "2                0                 0                  0                 1\n",
       "3                0                 1                  0                 0\n",
       "4                0                 0                  1                 0\n",
       "5                1                 0                  0                 0\n",
       "8                1                 0                  0                 0\n",
       "..             ...               ...                ...               ...\n",
       "659              1                 0                  0                 0\n",
       "661              0                 1                  0                 0\n",
       "665              0                 0                  0                 1\n",
       "666              0                 0                  0                 1\n",
       "667              0                 0                  0                 1\n",
       "\n",
       "[394 rows x 4 columns]"
      ]
     },
     "execution_count": 42,
     "metadata": {},
     "output_type": "execute_result"
    }
   ],
   "source": [
    "#exercio 72\n",
    "#tratamento de planilha excel\n",
    "dados_dy = pd.read_excel(\"C:/Users/Tiago/Documents/Codigo.Py/Galaxia/Galaxia 4 - Pandas/Excel/Mundo20-dy_yield_empresas_26set.xlsx\")\n",
    "#tratamento de planilha excel\n",
    "dados_dy = dados_dy.dropna()\n",
    "\n",
    "dados_dy['ranking_dividendos'] = dados_dy['DY_12M'].rank(ascending = False)\n",
    "\n",
    "divisorias = [0, (max(dados_dy['ranking_dividendos'])/4), \n",
    "              (max(dados_dy['ranking_dividendos'])/4 * 2),  \n",
    "              (max(dados_dy['ranking_dividendos'])/4 * 3),\n",
    "             max(dados_dy['ranking_dividendos']) + 1]\n",
    "\n",
    "dados_dy['quartil'] = pd.cut(dados_dy['ranking_dividendos'], divisorias)\n",
    "\n",
    "dados_dy['rank_quartil'] = dados_dy['quartil'].rank(method = \"dense\")\n",
    "\n",
    "empresa_escolhida = input('''Qual empresa você quer saber o quartil que ela ocupa na distribuição\n",
    "                          de dividendos da bolsa? ''').upper()\n",
    "\n",
    "quartil = (dados_dy[dados_dy['TICKER'] == empresa_escolhida]).iloc[0, 5]\n",
    "\n",
    "print(f'''A empresa {empresa_escolhida} fica localizada \n",
    "                no {quartil}º quartil em distribuição de dividendos\n",
    "                de todas as empresas da bolsa.''')\n",
    "\n",
    "\n",
    "dummies_empresas = pd.get_dummies(dados_dy['quartil'])\n",
    "\n",
    "dummies_empresas"
   ]
  },
  {
   "cell_type": "code",
   "execution_count": null,
   "metadata": {},
   "outputs": [],
   "source": []
  },
  {
   "cell_type": "code",
   "execution_count": null,
   "metadata": {},
   "outputs": [],
   "source": []
  }
 ],
 "metadata": {
  "kernelspec": {
   "display_name": "Python 3",
   "language": "python",
   "name": "python3"
  },
  "language_info": {
   "codemirror_mode": {
    "name": "ipython",
    "version": 3
   },
   "file_extension": ".py",
   "mimetype": "text/x-python",
   "name": "python",
   "nbconvert_exporter": "python",
   "pygments_lexer": "ipython3",
   "version": "3.10.4"
  },
  "orig_nbformat": 4
 },
 "nbformat": 4,
 "nbformat_minor": 2
}
