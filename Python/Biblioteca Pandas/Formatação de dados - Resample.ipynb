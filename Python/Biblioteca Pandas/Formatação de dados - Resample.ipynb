{
 "cells": [
  {
   "attachments": {},
   "cell_type": "markdown",
   "metadata": {},
   "source": [
    "# Mundo 23\n",
    "\n",
    "### Formatação de dados\n",
    "\n",
    "### Mudando datas com Resample"
   ]
  },
  {
   "cell_type": "code",
   "execution_count": 1,
   "metadata": {},
   "outputs": [],
   "source": [
    "import pandas as pd\n",
    "import yfinance as yf"
   ]
  },
  {
   "cell_type": "code",
   "execution_count": 2,
   "metadata": {},
   "outputs": [
    {
     "name": "stdout",
     "output_type": "stream",
     "text": [
      "[*********************100%***********************]  1 of 1 completed\n"
     ]
    },
    {
     "data": {
      "text/plain": [
       "Date\n",
       "2000-01-03     0.122969\n",
       "2000-01-04     0.118653\n",
       "2000-01-05     0.118653\n",
       "2000-01-06     0.107867\n",
       "2000-01-07     0.107867\n",
       "                ...    \n",
       "2023-03-17    39.816765\n",
       "2023-03-20    39.700001\n",
       "2023-03-21    39.959999\n",
       "2023-03-22    39.520000\n",
       "2023-03-23    39.889999\n",
       "Name: Adj Close, Length: 5835, dtype: float64"
      ]
     },
     "execution_count": 2,
     "metadata": {},
     "output_type": "execute_result"
    }
   ],
   "source": [
    "dados_weg = yf.download(\"WEGE3.SA\")['Adj Close']\n",
    "\n",
    "dados_weg"
   ]
  },
  {
   "cell_type": "code",
   "execution_count": 3,
   "metadata": {},
   "outputs": [
    {
     "data": {
      "text/plain": [
       "Date\n",
       "2000-01-31     0.118653\n",
       "2000-02-29     0.107867\n",
       "2000-03-31     0.107867\n",
       "2000-04-30     0.107867\n",
       "2000-05-31     0.102474\n",
       "                ...    \n",
       "2022-11-30    38.669258\n",
       "2022-12-31    38.238911\n",
       "2023-01-31    37.970814\n",
       "2023-02-28    39.107712\n",
       "2023-03-31    39.889999\n",
       "Freq: M, Name: Adj Close, Length: 279, dtype: float64"
      ]
     },
     "execution_count": 3,
     "metadata": {},
     "output_type": "execute_result"
    }
   ],
   "source": [
    "dados_weg_mensal = dados_weg.resample(\"M\").last()\n",
    "\n",
    "dados_weg_mensal"
   ]
  },
  {
   "cell_type": "code",
   "execution_count": 4,
   "metadata": {},
   "outputs": [
    {
     "data": {
      "text/plain": [
       "Date\n",
       "2000-12-31     0.127283\n",
       "2001-12-31     0.210341\n",
       "2002-12-31     0.254567\n",
       "2003-12-31     0.539336\n",
       "2004-12-31     0.825185\n",
       "2005-12-31     0.809005\n",
       "2006-12-31     1.402275\n",
       "2007-12-31     2.718256\n",
       "2008-12-31     1.376290\n",
       "2009-12-31     2.080988\n",
       "2010-12-31     2.512963\n",
       "2011-12-31     2.230003\n",
       "2012-12-31     3.286229\n",
       "2013-12-31     3.889564\n",
       "2014-12-31     5.074211\n",
       "2015-12-31     5.091219\n",
       "2016-12-31     5.413851\n",
       "2017-12-31     8.582378\n",
       "2018-12-31     8.261468\n",
       "2019-12-31    16.580936\n",
       "2020-12-31    36.524853\n",
       "2021-12-31    32.173950\n",
       "2022-12-31    38.238911\n",
       "2023-12-31    39.889999\n",
       "Freq: A-DEC, Name: Adj Close, dtype: float64"
      ]
     },
     "execution_count": 4,
     "metadata": {},
     "output_type": "execute_result"
    }
   ],
   "source": [
    "dados_weg_anual = dados_weg.resample(\"Y\").last()\n",
    "\n",
    "dados_weg_anual"
   ]
  },
  {
   "cell_type": "code",
   "execution_count": 5,
   "metadata": {},
   "outputs": [
    {
     "data": {
      "text/plain": [
       "Date\n",
       "2000-12-31         NaN\n",
       "2001-12-31    0.652541\n",
       "2002-12-31    0.210258\n",
       "2003-12-31    1.118645\n",
       "2004-12-31    0.530001\n",
       "2005-12-31   -0.019608\n",
       "2006-12-31    0.733333\n",
       "2007-12-31    0.938462\n",
       "2008-12-31   -0.493687\n",
       "2009-12-31    0.512028\n",
       "2010-12-31    0.207582\n",
       "2011-12-31   -0.112600\n",
       "2012-12-31    0.473643\n",
       "2013-12-31    0.183595\n",
       "2014-12-31    0.304571\n",
       "2015-12-31    0.003352\n",
       "2016-12-31    0.063370\n",
       "2017-12-31    0.585263\n",
       "2018-12-31   -0.037392\n",
       "2019-12-31    1.007021\n",
       "2020-12-31    1.202822\n",
       "2021-12-31   -0.119122\n",
       "2022-12-31    0.188505\n",
       "2023-12-31    0.043178\n",
       "Freq: A-DEC, Name: Adj Close, dtype: float64"
      ]
     },
     "execution_count": 5,
     "metadata": {},
     "output_type": "execute_result"
    }
   ],
   "source": [
    "dados_weg_anual.pct_change()"
   ]
  },
  {
   "attachments": {},
   "cell_type": "markdown",
   "metadata": {},
   "source": [
    "# Exercícios\n",
    "<BR>\n",
    "    \n",
    "* Exercício 78: Puxe os dados de cotação ajustada da VALE3.SA e:\n",
    "\n",
    "         - Transforme em cotações mensais\n",
    "         - Transforme em cotações semanais\n",
    "         - Transforme em cotações anuais\n",
    "         - Transforme em cotações de 30 minutos. (Não se importe com os NAs)\n",
    "\n"
   ]
  },
  {
   "cell_type": "code",
   "execution_count": 7,
   "metadata": {},
   "outputs": [
    {
     "name": "stdout",
     "output_type": "stream",
     "text": [
      "[*********************100%***********************]  1 of 1 completed\n"
     ]
    },
    {
     "data": {
      "text/plain": [
       "Date\n",
       "2000-01-03     1.665135\n",
       "2000-01-04     1.625488\n",
       "2000-01-05     1.625488\n",
       "2000-01-06     1.625488\n",
       "2000-01-07     1.684957\n",
       "                ...    \n",
       "2023-03-17    82.730003\n",
       "2023-03-20    83.410004\n",
       "2023-03-21    82.709999\n",
       "2023-03-22    81.680000\n",
       "2023-03-23    79.580002\n",
       "Name: Adj Close, Length: 5835, dtype: float64"
      ]
     },
     "execution_count": 7,
     "metadata": {},
     "output_type": "execute_result"
    }
   ],
   "source": [
    "dados_vale = yf.download(\"VALE3.SA\")['Adj Close']\n",
    "\n",
    "dados_vale\n",
    "\n",
    "dados_vale_mensal = dados_vale.resample(\"M\").last()\n",
    "\n",
    "dados_vale_anual = dados_vale.resample(\"Y\").last()\n",
    "\n",
    "dados_vale_semanais =dados_vale.resample(\"W\").last()\n",
    "\n",
    "dados_vale_30min = dados_vale.resample(\"30min\").last()"
   ]
  }
 ],
 "metadata": {
  "kernelspec": {
   "display_name": "Python 3",
   "language": "python",
   "name": "python3"
  },
  "language_info": {
   "codemirror_mode": {
    "name": "ipython",
    "version": 3
   },
   "file_extension": ".py",
   "mimetype": "text/x-python",
   "name": "python",
   "nbconvert_exporter": "python",
   "pygments_lexer": "ipython3",
   "version": "3.10.4"
  },
  "orig_nbformat": 4
 },
 "nbformat": 4,
 "nbformat_minor": 2
}
